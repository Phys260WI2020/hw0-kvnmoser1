{
 "cells": [
  {
   "cell_type": "markdown",
   "metadata": {},
   "source": [
    "# Introduction to Jupyter Notebooks, Matplotlib, and Numpy\n",
    "\n",
    "## Introduction\n",
    "The purpose of this notebook is to give you an opportunity to play with the different (computational) tools that we'll be using throughout the semester. This assignment is not mandatory and will not be graded, but the tools that we'll be using throughout this semester are sophisticated, and we want to give you the opportunity to become comfortable using them before we use them to solve physics problems.\n",
    "\n",
    "While these tools are more involved, many many more people use them; this provides two advantages:\n",
    "\n",
    "1) The ability to work with these tools will help you tremendously, both academically *and* professionally. Jupyter notebooks, Matplotlib, and Numpy are ubiquitous in scientific research and industry; being able to use these tools will help you wherever you go.\n",
    "\n",
    "2) Because these tools are used so widely, a tremendous amount of support infrastructure has been built around them. You will be able to debug your code using the greatest tool of all; Google’s search engine. What’s more, you will be able to learn how to use these tools using well-constructed tutorials that were written by brilliant teams (and I don't have to write the tutorials!).\n",
    "\n",
    "As mentioned previously, there are three tools you'll be using: Jupyter notebooks, Matplotlib, and Numpy. For each of these tools, you will be provided with two things: a tutorial that I have specifically chosen, and a task. You don't need to go through the whole tutorial, but you do need to go through enough such that you can complete the task (and knowing more never hurt anyone). It may help to open a new notebook as you go through each of the tutorials. \n",
    "\n",
    "After you've completed the three tutorials, there will be a final task that will require you to use all of the skills you've learned.\n",
    "\n",
    "## Jupyter Notebooks\n",
    "\n",
    "Welcome to Jupyter Notebooks! This is the coding interface we will be using throughout the semester; it is an environment that allows us to write code and text in a single document (this may not seem like that big of a deal, but it really is). I have found a very good [tutorial on the DataQuest blog](https://www.dataquest.io/blog/jupyter-notebook-tutorial/), which you should work through. **NOTE** About midway through this tutorial starts talking about using Pandas. This is a Python package we will *not* be using, so you should stop there.\n",
    "\n",
    "At the end, you should be able to produce a set of cells that look like this:\n",
    "\n",
    "<img src=\"https://live.staticflickr.com/65535/49316882846_d49f2e4918_b.jpg\" width=\"1024\" height=\"300\">\n"
   ]
  },
  {
   "cell_type": "code",
   "execution_count": null,
   "metadata": {},
   "outputs": [],
   "source": [
    "#sfsdsdsd"
   ]
  },
  {
   "cell_type": "markdown",
   "metadata": {},
   "source": [
    "# Hello"
   ]
  },
  {
   "cell_type": "markdown",
   "metadata": {},
   "source": [
    "## Hi"
   ]
  },
  {
   "cell_type": "markdown",
   "metadata": {},
   "source": []
  },
  {
   "cell_type": "markdown",
   "metadata": {},
   "source": [
    "**bold**"
   ]
  },
  {
   "cell_type": "markdown",
   "metadata": {},
   "source": [
    "- h\n",
    "- i\n"
   ]
  },
  {
   "cell_type": "markdown",
   "metadata": {},
   "source": [
    "1. bee\n",
    "1. bee\n",
    "1. bee"
   ]
  },
  {
   "cell_type": "code",
   "execution_count": null,
   "metadata": {},
   "outputs": [],
   "source": []
  },
  {
   "cell_type": "markdown",
   "metadata": {},
   "source": [
    "## Matplotlib\n",
    "Matplotlib is the workhorse plotting package for Python; it was created to make publication quality figures easily. I have found the [tutorial provided by Matplotlib](https://matplotlib.org/users/pyplot_tutorial.html) to be straightforward. **NOTE** The tutorial says it is for PyPlot; for our purposes, you can think of PyPlot and Matplotlib as being the same thing. Also, as you go through the tutorial, you should be making the plots in your own notebook (and tinker with different variables to see how they change things!).\n",
    "\n",
    "You should be able to reproduce the following plot:\n",
    "\n",
    "<img src=\"https://live.staticflickr.com/65535/49316388053_8ce08458cc_o.png\" width=\"500\">\n",
    "\n",
    "(the function being plotted here is $y=e^x$, and the $x$ values are [0.0, 0.25, 0.5, 0.75, 1.0, 1.25, 1.5, 1.75, 2.0, 2.25, 2.5, 2.75, 3.0, 3.25, 3.5, 3.75, 4.0, 4.25, 4.5, 4.75, 5.0]"
   ]
  },
  {
   "cell_type": "code",
   "execution_count": 33,
   "metadata": {},
   "outputs": [
    {
     "data": {
      "image/png": "[encoded data removed]",
      "text/plain": [
       "<Figure size 432x288 with 1 Axes>"
      ]
     },
     "metadata": {
      "needs_background": "light"
     },
     "output_type": "display_data"
    }
   ],
   "source": [
    "import matplotlib.pyplot as plt\n",
    "import numpy as np\n",
    "t = np.arange(0., 5., 0.2)\n",
    "plt.plot(t,2.7**t, 'ro')\n",
    "plt.xlabel('entry a')\n",
    "plt.ylabel('entry b')\n",
    "\n",
    "plt.show()\n",
    "\n"
   ]
  },
  {
   "cell_type": "markdown",
   "metadata": {},
   "source": [
    "## Numpy\n",
    "Numpy is a math library for python that enables us to do numerical computation efficiently and effectively. Again, I think that the [tutorial provided by the group that wrote Numpy](https://docs.scipy.org/doc/numpy-1.15.0/user/quickstart.html) to be very helpful (almost like it's their job?). One thing that I want to clarify: they jump into multi-dimensional arrays right away. For folks who don't have a \"formal\" CS background, this might be a lot. We can think of a one-dimensional array as a list of specific information  (e.g., the first name of everyone in class); adding another dimension just adds another layer of information. So a two-dimensional array might have a list of the first names *and* a list of the last names of every student. For our purposes, we'll mostly be using three-dimensional arrays, to store [$x$, $y$, $z$] values (or [$v_x$, $v_y$, $v_z$], or [$a_x$, $a_y$, $a_z$], etc.).\n",
    "\n",
    "\n",
    "After going through the tutorial, I want you to produce a 1D array of ones with 15 elements in it. Change the array so that all of the values are 15 (instead of 1), and then change the array so that it is 5X3 (instead of 15X1). Finally, print the final array, which should look like this:\n",
    "\n",
    "<img src=\"https://live.staticflickr.com/65535/49317096222_e83983b9c4_o.png\" width=\"280\" height=\"188\" alt=\"Numpy_Array\">\n"
   ]
  },
  {
   "cell_type": "code",
   "execution_count": 43,
   "metadata": {},
   "outputs": [
    {
     "data": {
      "text/plain": [
       "array([[15., 15., 15.],\n",
       "       [15., 15., 15.],\n",
       "       [15., 15., 15.],\n",
       "       [15., 15., 15.],\n",
       "       [15., 15., 15.]])"
      ]
     },
     "execution_count": 43,
     "metadata": {},
     "output_type": "execute_result"
    }
   ],
   "source": [
    "15*np.ones( (5,3) )"
   ]
  },
  {
   "cell_type": "markdown",
   "metadata": {},
   "source": [
    "## Final Task\n",
    "\n",
    "By now you should have some level of comfort with these tools. Your final task is to create a plot showing your grade as a function of the percentage of extra credit you earn. \n",
    "\n",
    "Here is the function that determines your final score:\n",
    "\n",
    "$G = (1-0.35E)M + 0.35E$\n",
    "\n",
    "Where $E$ is the percentage of the total possible extra credit points you earned, and $M$ is your overall percentage score on the mandatory assignments (this is all in the syllabus, btw). Plot four different lines: one where $M=0.60$, one where $M=0.7$, one where $M=0.8$, and one where $M=0.9$. Again, your $x$ axis should be $E$, and your $y$ axis should be your final score $G$. "
   ]
  },
  {
   "cell_type": "code",
   "execution_count": 49,
   "metadata": {},
   "outputs": [
    {
     "data": {
      "image/png": "[encoded data removed]",
      "text/plain": [
       "<Figure size 432x288 with 1 Axes>"
      ]
     },
     "metadata": {
      "needs_background": "light"
     },
     "output_type": "display_data"
    }
   ],
   "source": [
    "import matplotlib.pyplot as plt\n",
    "import numpy as np\n",
    "E = np.arange(0., 1, 0.1)\n",
    "M=0.7\n",
    "plt.plot(E,(1-0.35*E)*M+0.35*E, 'ro')\n",
    "\n",
    "plt.show()"
   ]
  },
  {
   "cell_type": "code",
   "execution_count": null,
   "metadata": {},
   "outputs": [],
   "source": []
  }
 ],
 "metadata": {
  "kernelspec": {
   "display_name": "Python 3",
   "language": "python",
   "name": "python3"
  },
  "language_info": {
   "codemirror_mode": {
    "name": "ipython",
    "version": 3
   },
   "file_extension": ".py",
   "mimetype": "text/x-python",
   "name": "python",
   "nbconvert_exporter": "python",
   "pygments_lexer": "ipython3",
   "version": "3.7.4"
  }
 },
 "nbformat": 4,
 "nbformat_minor": 2
}
